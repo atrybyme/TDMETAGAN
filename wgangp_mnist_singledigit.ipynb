{
  "nbformat": 4,
  "nbformat_minor": 0,
  "metadata": {
    "colab": {
      "name": "wgangp_mnist_singledigit.ipynb",
      "provenance": [],
      "collapsed_sections": []
    },
    "kernelspec": {
      "name": "python3",
      "display_name": "Python 3"
    },
    "accelerator": "GPU"
  },
  "cells": [
    {
      "cell_type": "code",
      "metadata": {
        "id": "Vab0BovRB0YG",
        "colab_type": "code",
        "colab": {
          "base_uri": "https://localhost:8080/",
          "height": 134
        },
        "outputId": "480986d2-1dfb-4696-b39e-bb2eb0f34b16"
      },
      "source": [
        "!pip install tensorboardx\n",
        "!mkdir checkpoints\n",
        "!mkdir results\n"
      ],
      "execution_count": null,
      "outputs": [
        {
          "output_type": "stream",
          "text": [
            "Requirement already satisfied: tensorboardx in /usr/local/lib/python3.6/dist-packages (2.0)\n",
            "Requirement already satisfied: numpy in /usr/local/lib/python3.6/dist-packages (from tensorboardx) (1.18.5)\n",
            "Requirement already satisfied: protobuf>=3.8.0 in /usr/local/lib/python3.6/dist-packages (from tensorboardx) (3.10.0)\n",
            "Requirement already satisfied: six in /usr/local/lib/python3.6/dist-packages (from tensorboardx) (1.12.0)\n",
            "Requirement already satisfied: setuptools in /usr/local/lib/python3.6/dist-packages (from protobuf>=3.8.0->tensorboardx) (47.1.1)\n",
            "mkdir: cannot create directory ‘checkpoints’: File exists\n",
            "mkdir: cannot create directory ‘results’: File exists\n"
          ],
          "name": "stdout"
        }
      ]
    },
    {
      "cell_type": "code",
      "metadata": {
        "id": "4xfhaLJNokrL",
        "colab_type": "code",
        "colab": {}
      },
      "source": [
        "import numpy as np\n",
        "import torch\n",
        "import torch.nn as nn\n",
        "import torch.nn.functional as F\n",
        "import torchvision.transforms as transforms\n",
        "import torchvision\n",
        "import torch.optim as optim\n",
        "from torch.utils.data import DataLoader\n",
        "from torch.utils.data.sampler import BatchSampler\n",
        "from itertools import cycle\n",
        "from tensorboardX import SummaryWriter\n",
        "import torch.autograd as autograd\n",
        "from tqdm import tqdm\n",
        "import matplotlib.pyplot as plt\n"
      ],
      "execution_count": null,
      "outputs": []
    },
    {
      "cell_type": "code",
      "metadata": {
        "id": "n5oOx-spouSY",
        "colab_type": "code",
        "colab": {}
      },
      "source": [
        "\n",
        "class BalancedBatchSampler(BatchSampler):\n",
        "    \"\"\"\n",
        "    BatchSampler - from a MNIST-like dataset, samples n_classes and within these classes samples n_samples.\n",
        "    Returns batches of size n_classes * n_samples\n",
        "    \"\"\"\n",
        "\n",
        "    def __init__(self, dataset, n_classes, n_samples,custom_classes =None):\n",
        "        loader = DataLoader(dataset)\n",
        "        self.labels_list = []\n",
        "        self.custom_classes = custom_classes\n",
        "        for _, label in loader:\n",
        "            self.labels_list.append(label)\n",
        "        self.labels = torch.LongTensor(self.labels_list)\n",
        "        self.labels_set = list(set(self.labels.numpy()))\n",
        "        self.label_to_indices = {label: np.where(self.labels.numpy() == label)[0]\n",
        "                                 for label in self.labels_set}\n",
        "        for l in self.labels_set:\n",
        "            np.random.shuffle(self.label_to_indices[l])\n",
        "        self.used_label_indices_count = {label: 0 for label in self.labels_set}\n",
        "\n",
        "        self.count = 0\n",
        "        self.n_classes = n_classes\n",
        "        self.n_samples = n_samples\n",
        "        self.dataset = dataset\n",
        "        self.batch_size = self.n_samples * self.n_classes\n",
        "\n",
        "    def __iter__(self):\n",
        "        self.count = 0\n",
        "        while self.count + self.batch_size < len(self.dataset):\n",
        "            classes = np.random.choice(self.labels_set, self.n_classes, replace=False)\n",
        "            indices = []\n",
        "            if self.custom_classes!=None:\n",
        "                classes = self.custom_classes\n",
        "            for class_ in classes:\n",
        "                indices.extend(self.label_to_indices[class_][\n",
        "                               self.used_label_indices_count[class_]:self.used_label_indices_count[\n",
        "                                                                         class_] + self.n_samples])\n",
        "                self.used_label_indices_count[class_] += self.n_samples\n",
        "                if self.used_label_indices_count[class_] + self.n_samples > len(self.label_to_indices[class_]):\n",
        "                    np.random.shuffle(self.label_to_indices[class_])\n",
        "                    self.used_label_indices_count[class_] = 0\n",
        "            yield indices\n",
        "            self.count += self.n_classes * self.n_samples\n",
        "\n",
        "    def __len__(self):\n",
        "        return len(self.dataset) // self.batch_size"
      ],
      "execution_count": null,
      "outputs": []
    },
    {
      "cell_type": "code",
      "metadata": {
        "id": "IQwxVyXnoz3x",
        "colab_type": "code",
        "colab": {}
      },
      "source": [
        "\n",
        "\n",
        "writer = SummaryWriter('runs_gan/wgangp_mnist')\n",
        "\n",
        "device = torch.device(\"cuda:0\" if torch.cuda.is_available() else \"cpu\")\n",
        "\n",
        "\n",
        "img_size = 28\n",
        "##Simulataneous training of different classes\n",
        "n_classes = 1\n",
        "#custom_classes = np.random.randint(0,10,n_classes)\n",
        "custom_classes = np.array([9])\n",
        "#custom_classes = None\n",
        "class_batch = 64\n",
        "transform = transforms.Compose([torchvision.transforms.Resize(img_size),torchvision.transforms.ToTensor()])\n",
        "dataset = torchvision.datasets.MNIST(root=\"./\", train=True,download=True,transform=transform)\n",
        "#balanced_batch_sampler = BalancedBatchSampler(dataset, n_classes, class_batch,custom_classes)\n",
        "batch_size = 64\n",
        "\n",
        "#dataloader = torch.utils.data.DataLoader(dataset, batch_sampler=balanced_batch_sampler)\n",
        "class_dataset = torch.utils.data.dataset.Subset(dataset, np.where(dataset.targets==9)[0])\n",
        "dataloader = torch.utils.data.DataLoader(class_dataset,batch_size=batch_size,shuffle=True,num_workers=4)\n",
        "##parameters\n",
        "\n",
        "dim = 64\n",
        "LAMBDA = 10\n",
        "epochs= 2000\n",
        "n_z = 128\n",
        "k = 10"
      ],
      "execution_count": null,
      "outputs": []
    },
    {
      "cell_type": "code",
      "metadata": {
        "id": "caSS0IjEpA2K",
        "colab_type": "code",
        "colab": {}
      },
      "source": [
        "\n",
        "\n",
        "class netD(nn.Module):\n",
        "    def __init__(self):\n",
        "        super(netD,self).__init__()\n",
        "        self.conv1 = nn.Conv2d(1,dim,5,stride=2,padding=2)\n",
        "        self.act1 = nn.ReLU(True)\n",
        "        self.conv2 = nn.Conv2d(dim,dim*2,5,stride=2,padding=2)\n",
        "        self.act2 = nn.ReLU(True)\n",
        "        self.conv3 = nn.Conv2d(dim*2,dim*4,5,stride=2,padding=2)\n",
        "        self.act3 = nn.ReLU(True)\n",
        "        self.fc1 = nn.Linear(4*4*4*dim,1)\n",
        "\n",
        "    def forward(self,input):\n",
        "        input = input.view(-1,1,28,28)\n",
        "\n",
        "        l1_1 = self.conv1(input)\n",
        "        l1_2 = self.act1(l1_1)\n",
        "        l2_1 = self.conv2(l1_2)\n",
        "        l2_2 = self.act2(l2_1)\n",
        "        l3_1 = self.conv3(l2_2)\n",
        "        l3_2 = self.act3(l3_1)\n",
        "\n",
        "        l4_1 = self.fc1(l3_2.view(-1,4*4*4*dim))\n",
        "        return l4_1.view(-1)\n",
        "\n",
        "\n",
        "class netG(nn.Module):\n",
        "    def __init__(self):\n",
        "        super(netG,self).__init__()\n",
        "        self.convt1 = nn.Linear(128,4*4*4*dim)\n",
        "        self.act1 = nn.ReLU(True)\n",
        "        self.convt2 = nn.ConvTranspose2d(4*dim,dim*2,5)\n",
        "        self.act2 = nn.ReLU(True)\n",
        "        self.convt3 = nn.ConvTranspose2d(dim*2,dim,5)\n",
        "        self.act3 = nn.ReLU(True)\n",
        "        self.convt4 = nn.ConvTranspose2d(dim,1,8,stride=2)\n",
        "        self.sigmoid = nn.Sigmoid()\n",
        "\n",
        "    def forward(self,input):\n",
        "        #input = input.view(-1,1,28,28)\n",
        "        l1_1 = self.convt1(input)\n",
        "        l1_2 = self.act1(l1_1)\n",
        "        l1_2 = l1_2.view(-1,4*dim,4,4)\n",
        "        l2_1 = self.convt2(l1_2)\n",
        "        l2_2 = self.act2(l2_1)\n",
        "        l2_2 = l2_2[:,:,:7,:7]\n",
        "        l3_1 = self.convt3(l2_2)\n",
        "        l3_2 = self.act3(l3_1)\n",
        "        l4_1 = self.convt4(l3_2)\n",
        "        output = self.sigmoid(l4_1)\n",
        "        return output.view(-1,img_size*img_size)\n"
      ],
      "execution_count": null,
      "outputs": []
    },
    {
      "cell_type": "code",
      "metadata": {
        "id": "JZ1_hQr8pFcx",
        "colab_type": "code",
        "colab": {}
      },
      "source": [
        "\n",
        "fixed_batch = torch.rand(class_batch,128,device=device,requires_grad=False)\n",
        "\n",
        "def calc_gradient_penalty(netD, real_data, fake_data):\n",
        "    #print real_data.size()\n",
        "    alpha = torch.rand(class_batch, 1).to(device)\n",
        "    alpha = alpha.expand(real_data.size())\n",
        "    interpolates = alpha * real_data + ((1 - alpha) * fake_data)\n",
        "\n",
        "    interpolates = autograd.Variable(interpolates, requires_grad=True)\n",
        "\n",
        "    disc_interpolates = netD(interpolates)\n",
        "\n",
        "    gradients = autograd.grad(outputs=disc_interpolates, inputs=interpolates,\n",
        "                              grad_outputs=torch.ones(disc_interpolates.size()).to(device),\n",
        "                              create_graph=True, retain_graph=True, only_inputs=True)[0]\n",
        "\n",
        "    gradient_penalty = ((gradients.norm(2, dim=1) - 1) ** 2).mean() * LAMBDA\n",
        "    return gradient_penalty\n",
        "#criterion = nn.BCEWithLogitsLoss()\n",
        "#metanet = netD().to(device)\n",
        "#tasknet = netD().to(device)\n",
        "#taskoptim = optim.Adam(tasknet.parameters(),lr=0.0001)\n",
        "#metaoptim = optim.Adam(metanet.parameters(),lr=0.00001)\n",
        "\n",
        "##training\n",
        "\n",
        "generator = netG().to(device)\n",
        "discriminator = netD().to(device)\n",
        "optimizerD = optim.Adam(discriminator.parameters(), lr=1e-4, betas=(0.5, 0.9))\n",
        "optimizerG = optim.Adam(generator.parameters(), lr=1e-4, betas=(0.5, 0.9))\n"
      ],
      "execution_count": null,
      "outputs": []
    },
    {
      "cell_type": "code",
      "metadata": {
        "id": "pNcAgScleKjh",
        "colab_type": "code",
        "colab": {
          "base_uri": "https://localhost:8080/",
          "height": 279
        },
        "outputId": "041433ed-b361-43b5-b243-401b9fd17c6b"
      },
      "source": [
        "\n",
        "iters=0\n",
        "for epoch in range(epochs):\n",
        "  data_iterator = iter(dataloader)\n",
        "  index = 0\n",
        "  #print(\"coca\")\n",
        "  while index+k<=dataloader.__len__():\n",
        "    for p in discriminator.parameters():\n",
        "      p.requires_grad=True\n",
        "    for _ in range(k):\n",
        "      #print(\"cola\")\n",
        "      discriminator.zero_grad()\n",
        "      x_real = data_iterator.next()[0].to(device)\n",
        "      x_real = x_real.view(-1,img_size*img_size)\n",
        "      b_size = x_real.shape[0]\n",
        "      output = discriminator(x_real).view(-1)\n",
        "      D_real = output.mean()\n",
        "\n",
        "      noise = torch.randn(b_size,n_z,device= device)\n",
        "      fake_data = generator(noise)\n",
        "      output = discriminator(fake_data.detach()).view(-1)\n",
        "      D_fake = output.mean()\n",
        "      D_loss = D_fake - D_real\n",
        "      D_loss.backward()\n",
        "      gradient_p = calc_gradient_penalty(discriminator,x_real.detach(),fake_data.detach())\n",
        "      gradient_p.backward()\n",
        "      total_D_loss = D_loss + gradient_p\n",
        "      optimizerD.step()\n",
        "    index = index + k\n",
        "    for p in discriminator.parameters():\n",
        "      p.requires_grad = False\n",
        "    generator.zero_grad()\n",
        "    noise = torch.randn(b_size,n_z,device=device)\n",
        "    fake_data = generator(noise)\n",
        "    output = discriminator(fake_data).view(-1)\n",
        "    G_loss = -output.mean()\n",
        "    G_loss.backward()\n",
        "    optimizerG.step()\n",
        "    writer.add_scalar('Discriminator_Loss', total_D_loss,iters)\n",
        "    writer.add_scalar('Generator_Loss',G_loss,iters)\n",
        "    if iters%100==0:\n",
        "      print(\"Epoch : \"+str(epoch)+\" D_Loss: \" + str(total_D_loss.item())+\"  G_loss: \" +str(G_loss.item()))\n",
        "    if epoch%50==0:\n",
        "      \n",
        "      torch.save(generator.state_dict(),'./checkpoints/gan_generator_'+str(iters))\n",
        "      torch.save(discriminator.state_dict(),'./checkpoints/gan_discriminator_'+str(iters))\n",
        "      with torch.no_grad():\n",
        "        sample_batch = generator(fixed_batch).detach().cpu()\n",
        "        sample_batch = sample_batch.view(-1,1,28,28)\n",
        "        grid = np.concatenate([np.concatenate([sample_batch[i * 4 + j] for j in range(3)], axis=-2) for i in range(int(class_batch/4))], axis=-1)\n",
        "        sample_batch = sample_batch.view(-1,28,28)\n",
        "        grid2 = np.concatenate([np.concatenate([sample_batch[i * 4 + j] for j in range(3)], axis=-2) for i in range(int(class_batch/4))], axis=-1)\n",
        "        plt.imsave(\"./results/\"+str(epoch)+\"_\"+str(iters)+\".png\",grid2)\n",
        "        writer.add_image('sample_output',grid,iters)\n",
        "    iters = iters+1\n",
        "\n",
        "\n",
        "\n",
        "\n",
        "\n",
        "\n",
        " \n",
        "\n",
        "\n",
        "\n",
        "\n"
      ],
      "execution_count": null,
      "outputs": [
        {
          "output_type": "stream",
          "text": [
            "Epoch : 0 D_Loss: 6.491664886474609  G_loss: 0.7783608436584473\n"
          ],
          "name": "stdout"
        },
        {
          "output_type": "error",
          "ename": "KeyboardInterrupt",
          "evalue": "ignored",
          "traceback": [
            "\u001b[0;31m---------------------------------------------------------------------------\u001b[0m",
            "\u001b[0;31mKeyboardInterrupt\u001b[0m                         Traceback (most recent call last)",
            "\u001b[0;32m<ipython-input-7-6a87ba31ae11>\u001b[0m in \u001b[0;36m<module>\u001b[0;34m()\u001b[0m\n\u001b[1;32m     11\u001b[0m       \u001b[0;31m#print(\"cola\")\u001b[0m\u001b[0;34m\u001b[0m\u001b[0;34m\u001b[0m\u001b[0;34m\u001b[0m\u001b[0m\n\u001b[1;32m     12\u001b[0m       \u001b[0mdiscriminator\u001b[0m\u001b[0;34m.\u001b[0m\u001b[0mzero_grad\u001b[0m\u001b[0;34m(\u001b[0m\u001b[0;34m)\u001b[0m\u001b[0;34m\u001b[0m\u001b[0;34m\u001b[0m\u001b[0m\n\u001b[0;32m---> 13\u001b[0;31m       \u001b[0mx_real\u001b[0m \u001b[0;34m=\u001b[0m \u001b[0mdata_iterator\u001b[0m\u001b[0;34m.\u001b[0m\u001b[0mnext\u001b[0m\u001b[0;34m(\u001b[0m\u001b[0;34m)\u001b[0m\u001b[0;34m[\u001b[0m\u001b[0;36m0\u001b[0m\u001b[0;34m]\u001b[0m\u001b[0;34m.\u001b[0m\u001b[0mto\u001b[0m\u001b[0;34m(\u001b[0m\u001b[0mdevice\u001b[0m\u001b[0;34m)\u001b[0m\u001b[0;34m\u001b[0m\u001b[0;34m\u001b[0m\u001b[0m\n\u001b[0m\u001b[1;32m     14\u001b[0m       \u001b[0mx_real\u001b[0m \u001b[0;34m=\u001b[0m \u001b[0mx_real\u001b[0m\u001b[0;34m.\u001b[0m\u001b[0mview\u001b[0m\u001b[0;34m(\u001b[0m\u001b[0;34m-\u001b[0m\u001b[0;36m1\u001b[0m\u001b[0;34m,\u001b[0m\u001b[0mimg_size\u001b[0m\u001b[0;34m*\u001b[0m\u001b[0mimg_size\u001b[0m\u001b[0;34m)\u001b[0m\u001b[0;34m\u001b[0m\u001b[0;34m\u001b[0m\u001b[0m\n\u001b[1;32m     15\u001b[0m       \u001b[0mb_size\u001b[0m \u001b[0;34m=\u001b[0m \u001b[0mx_real\u001b[0m\u001b[0;34m.\u001b[0m\u001b[0mshape\u001b[0m\u001b[0;34m[\u001b[0m\u001b[0;36m0\u001b[0m\u001b[0;34m]\u001b[0m\u001b[0;34m\u001b[0m\u001b[0;34m\u001b[0m\u001b[0m\n",
            "\u001b[0;31mKeyboardInterrupt\u001b[0m: "
          ]
        },
        {
          "output_type": "stream",
          "text": [
            "\n",
            "\n"
          ],
          "name": "stdout"
        }
      ]
    },
    {
      "cell_type": "code",
      "metadata": {
        "id": "mca9t3bUsTj6",
        "colab_type": "code",
        "colab": {
          "base_uri": "https://localhost:8080/",
          "height": 1000
        },
        "outputId": "2536278a-7d3b-465e-f722-67b4eac3fd1a"
      },
      "source": [
        "!zip -r wgan_mnist_digit9_m10_result.zip ./results/\n",
        "!zip -r wgan_mnist_digit9_m10_checkpoint.zip ./checkpoints/\n",
        "!zip -r wgan_mnist_digit9_m5_log.zip ./runs_gan"
      ],
      "execution_count": null,
      "outputs": [
        {
          "output_type": "stream",
          "text": [
            "  adding: results/ (stored 0%)\n",
            "  adding: results/0_0.png (deflated 0%)\n",
            "  adding: results/550_4956.png (deflated 0%)\n",
            "  adding: results/650_5850.png (deflated 0%)\n",
            "  adding: results/450_4055.png (deflated 0%)\n",
            "  adding: results/100_902.png (deflated 0%)\n",
            "  adding: results/600_5402.png (deflated 0%)\n",
            "  adding: results/150_1358.png (deflated 0%)\n",
            "  adding: results/250_2258.png (deflated 0%)\n",
            "  adding: results/50_455.png (deflated 0%)\n",
            "  adding: results/0_1.png (deflated 0%)\n",
            "  adding: results/550_4955.png (deflated 0%)\n",
            "  adding: results/500_4507.png (deflated 0%)\n",
            "  adding: results/50_452.png (deflated 0%)\n",
            "  adding: results/50_457.png (deflated 0%)\n",
            "  adding: results/300_2708.png (deflated 0%)\n",
            "  adding: results/150_1352.png (deflated 0%)\n",
            "  adding: results/300_2707.png (deflated 0%)\n",
            "  adding: results/600_5408.png (deflated 0%)\n",
            "  adding: results/400_3606.png (deflated 0%)\n",
            "  adding: results/450_4053.png (deflated 0%)\n",
            "  adding: results/50_453.png (deflated 0%)\n",
            "  adding: results/650_5858.png (deflated 0%)\n",
            "  adding: results/450_4050.png (deflated 0%)\n",
            "  adding: results/300_2700.png (deflated 0%)\n",
            "  adding: results/300_2703.png (deflated 0%)\n",
            "  adding: results/100_903.png (deflated 0%)\n",
            "  adding: results/350_3158.png (deflated 0%)\n",
            "  adding: results/650_5851.png (deflated 0%)\n",
            "  adding: results/550_4954.png (deflated 0%)\n",
            "  adding: results/0_3.png (deflated 0%)\n",
            "  adding: results/300_2706.png (deflated 0%)\n",
            "  adding: results/0_5.png (deflated 0%)\n",
            "  adding: results/500_4500.png (deflated 0%)\n",
            "  adding: results/200_1804.png (deflated 0%)\n",
            "  adding: results/700_6303.png (deflated 0%)\n",
            "  adding: results/550_4958.png (deflated 0%)\n",
            "  adding: results/200_1803.png (deflated 0%)\n",
            "  adding: results/350_3150.png (deflated 0%)\n",
            "  adding: results/200_1806.png (deflated 0%)\n",
            "  adding: results/650_5856.png (deflated 0%)\n",
            "  adding: results/700_6300.png (deflated 0%)\n",
            "  adding: results/500_4505.png (deflated 0%)\n",
            "  adding: results/150_1353.png (deflated 0%)\n",
            "  adding: results/350_3152.png (deflated 0%)\n",
            "  adding: results/400_3601.png (deflated 0%)\n",
            "  adding: results/400_3603.png (deflated 0%)\n",
            "  adding: results/550_4952.png (deflated 0%)\n",
            "  adding: results/700_6308.png (deflated 0%)\n",
            "  adding: results/500_4506.png (deflated 0%)\n",
            "  adding: results/550_4951.png (deflated 0%)\n",
            "  adding: results/600_5401.png (deflated 0%)\n",
            "  adding: results/500_4503.png (deflated 0%)\n",
            "  adding: results/650_5854.png (deflated 0%)\n",
            "  adding: results/100_908.png (deflated 0%)\n",
            "  adding: results/600_5405.png (deflated 0%)\n",
            "  adding: results/150_1356.png (deflated 0%)\n",
            "  adding: results/100_907.png (deflated 0%)\n",
            "  adding: results/700_6304.png (deflated 0%)\n",
            "  adding: results/100_906.png (deflated 0%)\n",
            "  adding: results/700_6307.png (deflated 0%)\n",
            "  adding: results/300_2702.png (deflated 0%)\n",
            "  adding: results/150_1355.png (deflated 0%)\n",
            "  adding: results/500_4504.png (deflated 0%)\n",
            "  adding: results/500_4501.png (deflated 0%)\n",
            "  adding: results/200_1801.png (deflated 0%)\n",
            "  adding: results/500_4508.png (deflated 0%)\n",
            "  adding: results/250_2251.png (deflated 0%)\n",
            "  adding: results/450_4057.png (deflated 0%)\n",
            "  adding: results/550_4957.png (deflated 0%)\n",
            "  adding: results/700_6302.png (deflated 0%)\n",
            "  adding: results/450_4056.png (deflated 0%)\n",
            "  adding: results/100_905.png (deflated 0%)\n",
            "  adding: results/300_2704.png (deflated 0%)\n",
            "  adding: results/50_450.png (deflated 0%)\n",
            "  adding: results/0_6.png (deflated 0%)\n",
            "  adding: results/200_1808.png (deflated 0%)\n",
            "  adding: results/250_2256.png (deflated 0%)\n",
            "  adding: results/0_4.png (deflated 0%)\n",
            "  adding: results/100_900.png (deflated 0%)\n",
            "  adding: results/300_2701.png (deflated 0%)\n",
            "  adding: results/0_7.png (deflated 0%)\n",
            "  adding: results/450_4052.png (deflated 0%)\n",
            "  adding: results/200_1802.png (deflated 0%)\n",
            "  adding: results/400_3602.png (deflated 0%)\n",
            "  adding: results/650_5857.png (deflated 0%)\n",
            "  adding: results/650_5853.png (deflated 0%)\n",
            "  adding: results/650_5852.png (deflated 0%)\n",
            "  adding: results/150_1351.png (deflated 0%)\n",
            "  adding: results/600_5400.png (deflated 0%)\n",
            "  adding: results/350_3155.png (deflated 0%)\n",
            "  adding: results/350_3151.png (deflated 0%)\n",
            "  adding: results/600_5404.png (deflated 0%)\n",
            "  adding: results/250_2253.png (deflated 0%)\n",
            "  adding: results/650_5855.png (deflated 0%)\n",
            "  adding: results/0_2.png (deflated 0%)\n",
            "  adding: results/250_2252.png (deflated 0%)\n",
            "  adding: results/550_4950.png (deflated 0%)\n",
            "  adding: results/400_3605.png (deflated 0%)\n",
            "  adding: results/450_4058.png (deflated 0%)\n",
            "  adding: results/50_458.png (deflated 0%)\n",
            "  adding: results/400_3608.png (deflated 0%)\n",
            "  adding: results/250_2255.png (deflated 0%)\n",
            "  adding: results/200_1800.png (deflated 0%)\n",
            "  adding: results/600_5407.png (deflated 0%)\n",
            "  adding: results/100_904.png (deflated 0%)\n",
            "  adding: results/600_5406.png (deflated 0%)\n",
            "  adding: results/350_3153.png (deflated 0%)\n",
            "  adding: results/350_3156.png (deflated 0%)\n",
            "  adding: results/550_4953.png (deflated 0%)\n",
            "  adding: results/600_5403.png (deflated 0%)\n",
            "  adding: results/400_3600.png (deflated 0%)\n",
            "  adding: results/150_1354.png (deflated 0%)\n",
            "  adding: results/150_1357.png (deflated 0%)\n",
            "  adding: results/250_2254.png (deflated 0%)\n",
            "  adding: results/400_3604.png (deflated 0%)\n",
            "  adding: results/50_456.png (deflated 0%)\n",
            "  adding: results/150_1350.png (deflated 0%)\n",
            "  adding: results/50_454.png (deflated 0%)\n",
            "  adding: results/450_4054.png (deflated 0%)\n",
            "  adding: results/50_451.png (deflated 0%)\n",
            "  adding: results/700_6301.png (deflated 0%)\n",
            "  adding: results/100_901.png (deflated 0%)\n",
            "  adding: results/0_8.png (deflated 0%)\n",
            "  adding: results/700_6306.png (deflated 0%)\n",
            "  adding: results/450_4051.png (deflated 0%)\n",
            "  adding: results/200_1807.png (deflated 0%)\n",
            "  adding: results/700_6305.png (deflated 0%)\n",
            "  adding: results/350_3154.png (deflated 0%)\n",
            "  adding: results/250_2250.png (deflated 0%)\n",
            "  adding: results/400_3607.png (deflated 0%)\n",
            "  adding: results/350_3157.png (deflated 0%)\n",
            "  adding: results/500_4502.png (deflated 0%)\n",
            "  adding: results/250_2257.png (deflated 0%)\n",
            "  adding: results/200_1805.png (deflated 0%)\n",
            "  adding: results/300_2705.png (deflated 0%)\n",
            "  adding: checkpoints/ (stored 0%)\n",
            "  adding: checkpoints/gan_generator_6300 (deflated 8%)\n",
            "  adding: checkpoints/gan_generator_3154 (deflated 8%)\n",
            "  adding: checkpoints/gan_discriminator_1807 (deflated 7%)\n",
            "  adding: checkpoints/gan_discriminator_3152 (deflated 7%)\n",
            "  adding: checkpoints/gan_generator_5400 (deflated 8%)\n",
            "  adding: checkpoints/gan_generator_0 (deflated 8%)\n",
            "  adding: checkpoints/gan_generator_5407 (deflated 8%)\n",
            "  adding: checkpoints/gan_generator_5852 (deflated 8%)\n",
            "  adding: checkpoints/gan_discriminator_1357 (deflated 7%)\n",
            "  adding: checkpoints/gan_discriminator_4053 (deflated 7%)\n",
            "  adding: checkpoints/gan_generator_4 (deflated 8%)\n",
            "  adding: checkpoints/gan_generator_5858 (deflated 8%)\n",
            "  adding: checkpoints/gan_discriminator_4051 (deflated 7%)\n",
            "  adding: checkpoints/gan_discriminator_4052 (deflated 7%)\n",
            "  adding: checkpoints/gan_generator_901 (deflated 8%)\n",
            "  adding: checkpoints/gan_discriminator_3151 (deflated 7%)\n",
            "  adding: checkpoints/gan_generator_3605 (deflated 8%)\n",
            "  adding: checkpoints/gan_discriminator_1802 (deflated 7%)\n",
            "  adding: checkpoints/gan_discriminator_2703 (deflated 7%)\n",
            "  adding: checkpoints/gan_generator_4501 (deflated 8%)\n",
            "  adding: checkpoints/gan_generator_5854 (deflated 8%)\n",
            "  adding: checkpoints/gan_generator_4951 (deflated 8%)\n",
            "  adding: checkpoints/gan_discriminator_4050 (deflated 7%)\n",
            "  adding: checkpoints/gan_generator_3150 (deflated 8%)\n",
            "  adding: checkpoints/gan_generator_454 (deflated 8%)\n",
            "  adding: checkpoints/gan_generator_4050 (deflated 8%)\n",
            "  adding: checkpoints/gan_generator_908 (deflated 8%)\n",
            "  adding: checkpoints/gan_generator_1808 (deflated 8%)\n",
            "  adding: checkpoints/gan_discriminator_458 (deflated 8%)\n",
            "  adding: checkpoints/gan_discriminator_2701 (deflated 7%)\n",
            "  adding: checkpoints/gan_generator_4954 (deflated 8%)\n",
            "  adding: checkpoints/gan_discriminator_3155 (deflated 7%)\n",
            "  adding: checkpoints/gan_generator_2700 (deflated 8%)\n",
            "  adding: checkpoints/gan_discriminator_1351 (deflated 7%)\n",
            "  adding: checkpoints/gan_generator_3156 (deflated 8%)\n",
            "  adding: checkpoints/gan_discriminator_3605 (deflated 7%)\n",
            "  adding: checkpoints/gan_generator_5402 (deflated 8%)\n",
            "  adding: checkpoints/gan_generator_6307 (deflated 8%)\n",
            "  adding: checkpoints/gan_discriminator_5406 (deflated 7%)\n",
            "  adding: checkpoints/gan_discriminator_4950 (deflated 7%)\n",
            "  adding: checkpoints/gan_generator_3608 (deflated 8%)\n",
            "  adding: checkpoints/gan_generator_904 (deflated 8%)\n",
            "  adding: checkpoints/gan_generator_4502 (deflated 8%)\n",
            "  adding: checkpoints/gan_generator_2255 (deflated 8%)\n",
            "  adding: checkpoints/gan_generator_2705 (deflated 8%)\n",
            "  adding: checkpoints/gan_discriminator_1 (deflated 8%)\n",
            "  adding: checkpoints/gan_discriminator_3608 (deflated 7%)\n",
            "  adding: checkpoints/gan_discriminator_4501 (deflated 7%)\n",
            "  adding: checkpoints/gan_generator_1803 (deflated 8%)\n",
            "  adding: checkpoints/gan_generator_4508 (deflated 8%)\n",
            "  adding: checkpoints/gan_discriminator_2706 (deflated 7%)\n",
            "  adding: checkpoints/gan_generator_903 (deflated 8%)\n",
            "  adding: checkpoints/gan_generator_906 (deflated 8%)\n",
            "  adding: checkpoints/gan_discriminator_4502 (deflated 7%)\n",
            "  adding: checkpoints/gan_discriminator_5407 (deflated 7%)\n",
            "  adding: checkpoints/gan_generator_2252 (deflated 8%)\n",
            "  adding: checkpoints/gan_discriminator_1803 (deflated 7%)\n",
            "  adding: checkpoints/gan_generator_1355 (deflated 8%)\n",
            "  adding: checkpoints/gan_discriminator_902 (deflated 7%)\n",
            "  adding: checkpoints/gan_generator_6302 (deflated 8%)\n",
            "  adding: checkpoints/gan_generator_905 (deflated 8%)\n",
            "  adding: checkpoints/gan_discriminator_4503 (deflated 7%)\n",
            "  adding: checkpoints/gan_generator_3601 (deflated 8%)\n",
            "  adding: checkpoints/gan_discriminator_450 (deflated 8%)\n",
            "  adding: checkpoints/gan_generator_1800 (deflated 8%)\n",
            "  adding: checkpoints/gan_generator_1804 (deflated 8%)\n",
            "  adding: checkpoints/gan_generator_1357 (deflated 8%)\n",
            "  adding: checkpoints/gan_discriminator_453 (deflated 8%)\n",
            "  adding: checkpoints/gan_discriminator_5852 (deflated 7%)\n",
            "  adding: checkpoints/gan_discriminator_455 (deflated 8%)\n",
            "  adding: checkpoints/gan_discriminator_2 (deflated 8%)\n",
            "  adding: checkpoints/gan_discriminator_6307 (deflated 7%)\n",
            "  adding: checkpoints/gan_generator_900 (deflated 8%)\n",
            "  adding: checkpoints/gan_discriminator_4507 (deflated 7%)\n",
            "  adding: checkpoints/gan_generator_5853 (deflated 8%)\n",
            "  adding: checkpoints/gan_discriminator_4504 (deflated 7%)\n",
            "  adding: checkpoints/gan_discriminator_5853 (deflated 7%)\n",
            "  adding: checkpoints/gan_generator_458 (deflated 8%)\n",
            "  adding: checkpoints/gan_discriminator_2702 (deflated 7%)\n",
            "  adding: checkpoints/gan_discriminator_3150 (deflated 7%)\n",
            "  adding: checkpoints/gan_discriminator_5856 (deflated 7%)\n",
            "  adding: checkpoints/gan_generator_1807 (deflated 8%)\n",
            "  adding: checkpoints/gan_generator_6 (deflated 8%)\n",
            "  adding: checkpoints/gan_discriminator_452 (deflated 8%)\n",
            "  adding: checkpoints/gan_discriminator_457 (deflated 8%)\n",
            "  adding: checkpoints/gan_generator_6306 (deflated 8%)\n",
            "  adding: checkpoints/gan_discriminator_5851 (deflated 7%)\n",
            "  adding: checkpoints/gan_discriminator_1806 (deflated 7%)\n",
            "  adding: checkpoints/gan_discriminator_2700 (deflated 7%)\n",
            "  adding: checkpoints/gan_generator_450 (deflated 8%)\n",
            "  adding: checkpoints/gan_discriminator_4956 (deflated 7%)\n",
            "  adding: checkpoints/gan_generator_2706 (deflated 8%)\n",
            "  adding: checkpoints/gan_generator_4505 (deflated 8%)\n",
            "  adding: checkpoints/gan_generator_4054 (deflated 8%)\n",
            "  adding: checkpoints/gan_discriminator_4055 (deflated 7%)\n",
            "  adding: checkpoints/gan_generator_1802 (deflated 8%)\n",
            "  adding: checkpoints/gan_discriminator_5854 (deflated 7%)\n",
            "  adding: checkpoints/gan_generator_4504 (deflated 8%)\n",
            "  adding: checkpoints/gan_discriminator_4508 (deflated 7%)\n",
            "  adding: checkpoints/gan_discriminator_4955 (deflated 7%)\n",
            "  adding: checkpoints/gan_generator_2 (deflated 8%)\n",
            "  adding: checkpoints/gan_generator_2254 (deflated 8%)\n",
            "  adding: checkpoints/gan_generator_5403 (deflated 8%)\n",
            "  adding: checkpoints/gan_discriminator_4054 (deflated 7%)\n",
            "  adding: checkpoints/gan_generator_902 (deflated 8%)\n",
            "  adding: checkpoints/gan_generator_5 (deflated 8%)\n",
            "  adding: checkpoints/gan_discriminator_5855 (deflated 7%)\n",
            "  adding: checkpoints/gan_generator_2258 (deflated 8%)\n",
            "  adding: checkpoints/gan_generator_4058 (deflated 8%)\n",
            "  adding: checkpoints/gan_discriminator_4058 (deflated 7%)\n",
            "  adding: checkpoints/gan_generator_456 (deflated 8%)\n",
            "  adding: checkpoints/gan_discriminator_5402 (deflated 7%)\n",
            "  adding: checkpoints/gan_generator_2251 (deflated 8%)\n",
            "  adding: checkpoints/gan_discriminator_6304 (deflated 7%)\n",
            "  adding: checkpoints/gan_discriminator_3156 (deflated 7%)\n",
            "  adding: checkpoints/gan_generator_1351 (deflated 8%)\n",
            "  adding: checkpoints/gan_discriminator_6308 (deflated 7%)\n",
            "  adding: checkpoints/gan_generator_5850 (deflated 8%)\n",
            "  adding: checkpoints/gan_discriminator_1358 (deflated 7%)\n",
            "  adding: checkpoints/gan_discriminator_1354 (deflated 7%)\n",
            "  adding: checkpoints/gan_discriminator_5405 (deflated 7%)\n",
            "  adding: checkpoints/gan_generator_2707 (deflated 8%)\n",
            "  adding: checkpoints/gan_discriminator_1355 (deflated 7%)\n",
            "  adding: checkpoints/gan_discriminator_3601 (deflated 7%)\n",
            "  adding: checkpoints/gan_discriminator_1801 (deflated 7%)\n",
            "  adding: checkpoints/gan_generator_1354 (deflated 8%)\n",
            "  adding: checkpoints/gan_generator_2708 (deflated 8%)\n",
            "  adding: checkpoints/gan_generator_4053 (deflated 8%)\n",
            "  adding: checkpoints/gan_generator_5405 (deflated 8%)\n",
            "  adding: checkpoints/gan_generator_7 (deflated 8%)\n",
            "  adding: checkpoints/gan_discriminator_1356 (deflated 7%)\n",
            "  adding: checkpoints/gan_discriminator_5408 (deflated 7%)\n",
            "  adding: checkpoints/gan_discriminator_1352 (deflated 7%)\n",
            "  adding: checkpoints/gan_generator_6305 (deflated 8%)\n",
            "  adding: checkpoints/gan_generator_6304 (deflated 8%)\n",
            "  adding: checkpoints/gan_discriminator_3600 (deflated 7%)\n",
            "  adding: checkpoints/gan_generator_1358 (deflated 8%)\n",
            "  adding: checkpoints/gan_discriminator_6301 (deflated 7%)\n",
            "  adding: checkpoints/gan_generator_4051 (deflated 8%)\n",
            "  adding: checkpoints/gan_discriminator_5850 (deflated 7%)\n",
            "  adding: checkpoints/gan_generator_457 (deflated 8%)\n",
            "  adding: checkpoints/gan_generator_1350 (deflated 8%)\n",
            "  adding: checkpoints/gan_generator_3157 (deflated 8%)\n",
            "  adding: checkpoints/gan_generator_4503 (deflated 8%)\n",
            "  adding: checkpoints/gan_discriminator_3157 (deflated 7%)\n",
            "  adding: checkpoints/gan_discriminator_2252 (deflated 7%)\n",
            "  adding: checkpoints/gan_generator_2253 (deflated 8%)\n",
            "  adding: checkpoints/gan_generator_2703 (deflated 8%)\n",
            "  adding: checkpoints/gan_generator_3602 (deflated 8%)\n",
            "  adding: checkpoints/gan_discriminator_903 (deflated 7%)\n",
            "  adding: checkpoints/gan_discriminator_6 (deflated 8%)\n",
            "  adding: checkpoints/gan_generator_3155 (deflated 8%)\n",
            "  adding: checkpoints/gan_discriminator_2253 (deflated 7%)\n",
            "  adding: checkpoints/gan_discriminator_3603 (deflated 7%)\n",
            "  adding: checkpoints/gan_generator_5401 (deflated 8%)\n",
            "  adding: checkpoints/gan_generator_4956 (deflated 8%)\n",
            "  adding: checkpoints/gan_discriminator_1808 (deflated 7%)\n",
            "  adding: checkpoints/gan_generator_1806 (deflated 8%)\n",
            "  adding: checkpoints/gan_discriminator_4505 (deflated 7%)\n",
            "  adding: checkpoints/gan_discriminator_5404 (deflated 7%)\n",
            "  adding: checkpoints/gan_discriminator_4958 (deflated 7%)\n",
            "  adding: checkpoints/gan_discriminator_3604 (deflated 7%)\n",
            "  adding: checkpoints/gan_generator_5851 (deflated 8%)\n",
            "  adding: checkpoints/gan_generator_5406 (deflated 8%)\n",
            "  adding: checkpoints/gan_generator_451 (deflated 8%)\n",
            "  adding: checkpoints/gan_generator_3151 (deflated 8%)\n",
            "  adding: checkpoints/gan_discriminator_1804 (deflated 7%)\n",
            "  adding: checkpoints/gan_discriminator_8 (deflated 8%)\n",
            "  adding: checkpoints/gan_discriminator_900 (deflated 7%)\n",
            "  adding: checkpoints/gan_discriminator_2255 (deflated 7%)\n",
            "  adding: checkpoints/gan_generator_4955 (deflated 8%)\n",
            "  adding: checkpoints/gan_discriminator_4057 (deflated 7%)\n",
            "  adding: checkpoints/gan_discriminator_456 (deflated 8%)\n",
            "  adding: checkpoints/gan_discriminator_5 (deflated 8%)\n",
            "  adding: checkpoints/gan_generator_4507 (deflated 8%)\n",
            "  adding: checkpoints/gan_discriminator_3606 (deflated 7%)\n",
            "  adding: checkpoints/gan_discriminator_2254 (deflated 7%)\n",
            "  adding: checkpoints/gan_discriminator_1350 (deflated 7%)\n",
            "  adding: checkpoints/gan_discriminator_5858 (deflated 7%)\n",
            "  adding: checkpoints/gan_discriminator_3607 (deflated 7%)\n",
            "  adding: checkpoints/gan_generator_1352 (deflated 8%)\n",
            "  adding: checkpoints/gan_discriminator_6303 (deflated 7%)\n",
            "  adding: checkpoints/gan_discriminator_3158 (deflated 7%)\n",
            "  adding: checkpoints/gan_generator_5857 (deflated 8%)\n",
            "  adding: checkpoints/gan_discriminator_1805 (deflated 7%)\n",
            "  adding: checkpoints/gan_generator_4057 (deflated 8%)\n",
            "  adding: checkpoints/gan_generator_4052 (deflated 8%)\n",
            "  adding: checkpoints/gan_generator_4952 (deflated 8%)\n",
            "  adding: checkpoints/gan_generator_6303 (deflated 8%)\n",
            "  adding: checkpoints/gan_discriminator_3 (deflated 8%)\n",
            "  adding: checkpoints/gan_generator_1801 (deflated 8%)\n",
            "  adding: checkpoints/gan_generator_5408 (deflated 8%)\n",
            "  adding: checkpoints/gan_discriminator_4056 (deflated 7%)\n",
            "  adding: checkpoints/gan_generator_2704 (deflated 8%)\n",
            "  adding: checkpoints/gan_generator_5856 (deflated 8%)\n",
            "  adding: checkpoints/gan_generator_6301 (deflated 8%)\n",
            "  adding: checkpoints/gan_discriminator_907 (deflated 7%)\n",
            "  adding: checkpoints/gan_generator_6308 (deflated 8%)\n",
            "  adding: checkpoints/gan_generator_4950 (deflated 8%)\n",
            "  adding: checkpoints/gan_discriminator_2707 (deflated 7%)\n",
            "  adding: checkpoints/gan_discriminator_4957 (deflated 7%)\n",
            "  adding: checkpoints/gan_discriminator_3602 (deflated 7%)\n",
            "  adding: checkpoints/gan_generator_1353 (deflated 8%)\n",
            "  adding: checkpoints/gan_discriminator_4951 (deflated 7%)\n",
            "  adding: checkpoints/gan_generator_455 (deflated 8%)\n",
            "  adding: checkpoints/gan_discriminator_5403 (deflated 7%)\n",
            "  adding: checkpoints/gan_discriminator_4954 (deflated 7%)\n",
            "  adding: checkpoints/gan_discriminator_905 (deflated 7%)\n",
            "  adding: checkpoints/gan_discriminator_2258 (deflated 7%)\n",
            "  adding: checkpoints/gan_generator_1356 (deflated 8%)\n",
            "  adding: checkpoints/gan_generator_5855 (deflated 8%)\n",
            "  adding: checkpoints/gan_discriminator_901 (deflated 7%)\n",
            "  adding: checkpoints/gan_generator_4958 (deflated 8%)\n",
            "  adding: checkpoints/gan_discriminator_6300 (deflated 7%)\n",
            "  adding: checkpoints/gan_generator_3603 (deflated 8%)\n",
            "  adding: checkpoints/gan_generator_4953 (deflated 8%)\n",
            "  adding: checkpoints/gan_generator_3152 (deflated 8%)\n",
            "  adding: checkpoints/gan_discriminator_2256 (deflated 7%)\n",
            "  adding: checkpoints/gan_discriminator_4952 (deflated 7%)\n",
            "  adding: checkpoints/gan_generator_4506 (deflated 8%)\n",
            "  adding: checkpoints/gan_generator_8 (deflated 8%)\n",
            "  adding: checkpoints/gan_generator_907 (deflated 8%)\n",
            "  adding: checkpoints/gan_discriminator_451 (deflated 8%)\n",
            "  adding: checkpoints/gan_discriminator_2250 (deflated 7%)\n",
            "  adding: checkpoints/gan_discriminator_2704 (deflated 7%)\n",
            "  adding: checkpoints/gan_generator_4055 (deflated 8%)\n",
            "  adding: checkpoints/gan_generator_5404 (deflated 8%)\n",
            "  adding: checkpoints/gan_generator_452 (deflated 8%)\n",
            "  adding: checkpoints/gan_discriminator_908 (deflated 7%)\n",
            "  adding: checkpoints/gan_generator_2702 (deflated 8%)\n",
            "  adding: checkpoints/gan_discriminator_4 (deflated 8%)\n",
            "  adding: checkpoints/gan_discriminator_4506 (deflated 7%)\n",
            "  adding: checkpoints/gan_generator_2256 (deflated 8%)\n",
            "  adding: checkpoints/gan_discriminator_454 (deflated 8%)\n",
            "  adding: checkpoints/gan_discriminator_4500 (deflated 7%)\n",
            "  adding: checkpoints/gan_generator_3 (deflated 8%)\n",
            "  adding: checkpoints/gan_discriminator_904 (deflated 7%)\n",
            "  adding: checkpoints/gan_generator_2250 (deflated 8%)\n",
            "  adding: checkpoints/gan_discriminator_2257 (deflated 7%)\n",
            "  adding: checkpoints/gan_discriminator_2251 (deflated 7%)\n",
            "  adding: checkpoints/gan_discriminator_1353 (deflated 7%)\n",
            "  adding: checkpoints/gan_generator_2701 (deflated 8%)\n",
            "  adding: checkpoints/gan_generator_3607 (deflated 8%)\n",
            "  adding: checkpoints/gan_discriminator_5401 (deflated 7%)\n",
            "  adding: checkpoints/gan_discriminator_5400 (deflated 7%)\n",
            "  adding: checkpoints/gan_generator_3158 (deflated 8%)\n",
            "  adding: checkpoints/gan_discriminator_3154 (deflated 7%)\n",
            "  adding: checkpoints/gan_discriminator_2708 (deflated 7%)\n",
            "  adding: checkpoints/gan_generator_3153 (deflated 8%)\n",
            "  adding: checkpoints/gan_discriminator_3153 (deflated 7%)\n",
            "  adding: checkpoints/gan_generator_3600 (deflated 8%)\n",
            "  adding: checkpoints/gan_discriminator_5857 (deflated 7%)\n",
            "  adding: checkpoints/gan_discriminator_7 (deflated 8%)\n",
            "  adding: checkpoints/gan_discriminator_906 (deflated 7%)\n",
            "  adding: checkpoints/gan_generator_453 (deflated 8%)\n",
            "  adding: checkpoints/gan_discriminator_2705 (deflated 7%)\n",
            "  adding: checkpoints/gan_generator_4957 (deflated 8%)\n",
            "  adding: checkpoints/gan_discriminator_0 (deflated 8%)\n",
            "  adding: checkpoints/gan_discriminator_4953 (deflated 7%)\n",
            "  adding: checkpoints/gan_generator_4500 (deflated 8%)\n",
            "  adding: checkpoints/gan_generator_3604 (deflated 8%)\n",
            "  adding: checkpoints/gan_generator_2257 (deflated 8%)\n",
            "  adding: checkpoints/gan_discriminator_1800 (deflated 7%)\n",
            "  adding: checkpoints/gan_generator_4056 (deflated 8%)\n",
            "  adding: checkpoints/gan_generator_3606 (deflated 8%)\n",
            "  adding: checkpoints/gan_discriminator_6306 (deflated 7%)\n",
            "  adding: checkpoints/gan_generator_1 (deflated 8%)\n",
            "  adding: checkpoints/gan_generator_1805 (deflated 8%)\n",
            "  adding: checkpoints/gan_discriminator_6305 (deflated 7%)\n",
            "  adding: checkpoints/gan_discriminator_6302 (deflated 7%)\n",
            "  adding: runs_gan/ (stored 0%)\n",
            "  adding: runs_gan/wgangp_mnist/ (stored 0%)\n",
            "  adding: runs_gan/wgangp_mnist/events.out.tfevents.1592093059.571dcb30a9bd (deflated 12%)\n"
          ],
          "name": "stdout"
        }
      ]
    },
    {
      "cell_type": "code",
      "metadata": {
        "id": "Nl_j1r-izlAI",
        "colab_type": "code",
        "colab": {}
      },
      "source": [
        "!rm -r ./checkpoints/*\n",
        "!rm -r ./results/*\n",
        "!rm -r ./runs_gan/*"
      ],
      "execution_count": null,
      "outputs": []
    },
    {
      "cell_type": "code",
      "metadata": {
        "id": "dQU1_CP58eyD",
        "colab_type": "code",
        "colab": {}
      },
      "source": [
        "!mv wgan_mnist_digit9_m10_result.zip /content/drive/\"My Drive\"/\n",
        "!mv wgan_mnist_digit9_m10_checkpoint.zip /content/drive/\"My Drive\"/\n",
        "!mv wgan_mnist_digit9_m10_log.zip /content/drive/\"My Drive\"/\n",
        "\n"
      ],
      "execution_count": null,
      "outputs": []
    },
    {
      "cell_type": "code",
      "metadata": {
        "id": "kKZTQ53LAlWp",
        "colab_type": "code",
        "colab": {
          "base_uri": "https://localhost:8080/",
          "height": 353
        },
        "outputId": "0161d562-fb89-4ced-9134-186c8ed7a314"
      },
      "source": [
        "!nvidia-smi"
      ],
      "execution_count": null,
      "outputs": [
        {
          "output_type": "stream",
          "text": [
            "Sun Jun 14 00:27:55 2020       \n",
            "+-----------------------------------------------------------------------------+\n",
            "| NVIDIA-SMI 450.36.06    Driver Version: 418.67       CUDA Version: 10.1     |\n",
            "|-------------------------------+----------------------+----------------------+\n",
            "| GPU  Name        Persistence-M| Bus-Id        Disp.A | Volatile Uncorr. ECC |\n",
            "| Fan  Temp  Perf  Pwr:Usage/Cap|         Memory-Usage | GPU-Util  Compute M. |\n",
            "|                               |                      |               MIG M. |\n",
            "|===============================+======================+======================|\n",
            "|   0  Tesla P100-PCIE...  Off  | 00000000:00:04.0 Off |                    0 |\n",
            "| N/A   55C    P0    30W / 250W |      0MiB / 16280MiB |      0%      Default |\n",
            "|                               |                      |                 ERR! |\n",
            "+-------------------------------+----------------------+----------------------+\n",
            "                                                                               \n",
            "+-----------------------------------------------------------------------------+\n",
            "| Processes:                                                                  |\n",
            "|  GPU   GI   CI        PID   Type   Process name                  GPU Memory |\n",
            "|        ID   ID                                                   Usage      |\n",
            "|=============================================================================|\n",
            "|  No running processes found                                                 |\n",
            "+-----------------------------------------------------------------------------+\n"
          ],
          "name": "stdout"
        }
      ]
    },
    {
      "cell_type": "code",
      "metadata": {
        "id": "ebXVip4OObtZ",
        "colab_type": "code",
        "colab": {
          "base_uri": "https://localhost:8080/",
          "height": 101
        },
        "outputId": "b57dfb21-ff79-4e84-9c03-d3b81c7cbcb7"
      },
      "source": [
        "!git clone https://github.com/ChunyuanLI/MNIST_Inception_Score.git"
      ],
      "execution_count": null,
      "outputs": [
        {
          "output_type": "stream",
          "text": [
            "Cloning into 'MNIST_Inception_Score'...\n",
            "remote: Enumerating objects: 121, done.\u001b[K\n",
            "remote: Total 121 (delta 0), reused 0 (delta 0), pack-reused 121\u001b[K\n",
            "Receiving objects: 100% (121/121), 35.76 MiB | 24.54 MiB/s, done.\n",
            "Resolving deltas: 100% (64/64), done.\n"
          ],
          "name": "stdout"
        }
      ]
    },
    {
      "cell_type": "code",
      "metadata": {
        "id": "YKEe1B2jZEZb",
        "colab_type": "code",
        "colab": {}
      },
      "source": [
        "!mv ./MNIST_Inception_Score/* ./ "
      ],
      "execution_count": null,
      "outputs": []
    },
    {
      "cell_type": "code",
      "metadata": {
        "id": "re6i0teAZtoC",
        "colab_type": "code",
        "colab": {}
      },
      "source": [
        "res_batch = torch.rand(10000,n_z).to(device)"
      ],
      "execution_count": null,
      "outputs": []
    },
    {
      "cell_type": "code",
      "metadata": {
        "id": "SA3g0r-oaC1P",
        "colab_type": "code",
        "colab": {}
      },
      "source": [
        "output = generator(res_batch)"
      ],
      "execution_count": null,
      "outputs": []
    },
    {
      "cell_type": "code",
      "metadata": {
        "id": "NmKtDgFuaHOy",
        "colab_type": "code",
        "colab": {
          "base_uri": "https://localhost:8080/",
          "height": 34
        },
        "outputId": "78aedc8f-54a4-43b1-ee59-dc5092733251"
      },
      "source": [
        "output.shape"
      ],
      "execution_count": null,
      "outputs": [
        {
          "output_type": "execute_result",
          "data": {
            "text/plain": [
              "torch.Size([10000, 784])"
            ]
          },
          "metadata": {
            "tags": []
          },
          "execution_count": 13
        }
      ]
    },
    {
      "cell_type": "code",
      "metadata": {
        "id": "M9UjYjxEaNth",
        "colab_type": "code",
        "colab": {}
      },
      "source": [
        "import scipy.io"
      ],
      "execution_count": null,
      "outputs": []
    },
    {
      "cell_type": "code",
      "metadata": {
        "id": "SRtxDPRcauuE",
        "colab_type": "code",
        "colab": {}
      },
      "source": [
        "scipy.io.savemat('./ali_results/001.mat',{'images': output.detach().cpu().numpy()})"
      ],
      "execution_count": null,
      "outputs": []
    },
    {
      "cell_type": "code",
      "metadata": {
        "id": "JnUMT3UTbDBs",
        "colab_type": "code",
        "colab": {
          "base_uri": "https://localhost:8080/",
          "height": 34
        },
        "outputId": "b3ce691c-d79e-4681-96ed-5cf1b9ae183f"
      },
      "source": [
        "!mnist_cnn_icp_eval.py"
      ],
      "execution_count": null,
      "outputs": [
        {
          "output_type": "stream",
          "text": [
            "/bin/bash: mnist_cnn_icp_eval.py: command not found\n"
          ],
          "name": "stdout"
        }
      ]
    },
    {
      "cell_type": "code",
      "metadata": {
        "id": "lR0km-JRbLo4",
        "colab_type": "code",
        "colab": {
          "base_uri": "https://localhost:8080/",
          "height": 722
        },
        "outputId": "2f6c4d9f-3a63-400a-f47e-83ce22b3d3e5"
      },
      "source": [
        "!python mnist_cnn_icp_eval.py\n"
      ],
      "execution_count": null,
      "outputs": [
        {
          "output_type": "stream",
          "text": [
            "Traceback (most recent call last):\n",
            "  File \"/usr/local/lib/python3.6/dist-packages/tensorflow/python/__init__.py\", line 61, in <module>\n",
            "    from tensorflow.python import pywrap_tensorflow\n",
            "  File \"/usr/local/lib/python3.6/dist-packages/tensorflow/python/pywrap_tensorflow.py\", line 28, in <module>\n",
            "    _pywrap_tensorflow = swig_import_helper()\n",
            "  File \"/usr/local/lib/python3.6/dist-packages/tensorflow/python/pywrap_tensorflow.py\", line 24, in swig_import_helper\n",
            "    _mod = imp.load_module('_pywrap_tensorflow', fp, pathname, description)\n",
            "  File \"/usr/lib/python3.6/imp.py\", line 243, in load_module\n",
            "    return load_dynamic(name, filename, file)\n",
            "  File \"/usr/lib/python3.6/imp.py\", line 343, in load_dynamic\n",
            "    return _load(spec)\n",
            "ImportError: libcudart.so.8.0: cannot open shared object file: No such file or directory\n",
            "\n",
            "During handling of the above exception, another exception occurred:\n",
            "\n",
            "Traceback (most recent call last):\n",
            "  File \"mnist_cnn_icp_eval.py\", line 10, in <module>\n",
            "    import tensorflow as tf\n",
            "  File \"/usr/local/lib/python3.6/dist-packages/tensorflow/__init__.py\", line 24, in <module>\n",
            "    from tensorflow.python import *\n",
            "  File \"/usr/local/lib/python3.6/dist-packages/tensorflow/python/__init__.py\", line 72, in <module>\n",
            "    raise ImportError(msg)\n",
            "ImportError: Traceback (most recent call last):\n",
            "  File \"/usr/local/lib/python3.6/dist-packages/tensorflow/python/__init__.py\", line 61, in <module>\n",
            "    from tensorflow.python import pywrap_tensorflow\n",
            "  File \"/usr/local/lib/python3.6/dist-packages/tensorflow/python/pywrap_tensorflow.py\", line 28, in <module>\n",
            "    _pywrap_tensorflow = swig_import_helper()\n",
            "  File \"/usr/local/lib/python3.6/dist-packages/tensorflow/python/pywrap_tensorflow.py\", line 24, in swig_import_helper\n",
            "    _mod = imp.load_module('_pywrap_tensorflow', fp, pathname, description)\n",
            "  File \"/usr/lib/python3.6/imp.py\", line 243, in load_module\n",
            "    return load_dynamic(name, filename, file)\n",
            "  File \"/usr/lib/python3.6/imp.py\", line 343, in load_dynamic\n",
            "    return _load(spec)\n",
            "ImportError: libcudart.so.8.0: cannot open shared object file: No such file or directory\n",
            "\n",
            "\n",
            "Failed to load the native TensorFlow runtime.\n",
            "\n",
            "See https://github.com/tensorflow/tensorflow/blob/master/tensorflow/g3doc/get_started/os_setup.md#import_error\n",
            "\n",
            "for some common reasons and solutions.  Include the entire stack trace\n",
            "above this error message when asking for help.\n"
          ],
          "name": "stdout"
        }
      ]
    },
    {
      "cell_type": "code",
      "metadata": {
        "id": "Q1lNGvZtbPPc",
        "colab_type": "code",
        "colab": {
          "base_uri": "https://localhost:8080/",
          "height": 151
        },
        "outputId": "9ee019e7-9070-4f29-afbe-f1a47cd34df0"
      },
      "source": [
        "!pip uninstall tensorflow==1.0"
      ],
      "execution_count": null,
      "outputs": [
        {
          "output_type": "stream",
          "text": [
            "Uninstalling tensorflow-gpu-1.0.0:\n",
            "  Would remove:\n",
            "    /usr/local/bin/tensorboard\n",
            "    /usr/local/lib/python3.6/dist-packages/external/*\n",
            "    /usr/local/lib/python3.6/dist-packages/tensorflow/*\n",
            "    /usr/local/lib/python3.6/dist-packages/tensorflow_gpu-1.0.0.dist-info/*\n",
            "Proceed (y/n)? y\n",
            "  Successfully uninstalled tensorflow-gpu-1.0.0\n"
          ],
          "name": "stdout"
        }
      ]
    },
    {
      "cell_type": "code",
      "metadata": {
        "id": "Z2rhqO4zbeej",
        "colab_type": "code",
        "colab": {}
      },
      "source": [
        ""
      ],
      "execution_count": null,
      "outputs": []
    },
    {
      "cell_type": "code",
      "metadata": {
        "id": "CG3pSaPXcTpJ",
        "colab_type": "code",
        "colab": {}
      },
      "source": [
        "dataloader = torch.utils.data.DataLoader(dataset,batch_size=10000,shuffle=True,num_workers=4)\n",
        "x_t,_ = iter(dataloader).next()\n",
        "x_t = x_t.view(-1,784)"
      ],
      "execution_count": null,
      "outputs": []
    },
    {
      "cell_type": "code",
      "metadata": {
        "id": "y1bosH8ecYrG",
        "colab_type": "code",
        "colab": {}
      },
      "source": [
        ""
      ],
      "execution_count": null,
      "outputs": []
    },
    {
      "cell_type": "code",
      "metadata": {
        "id": "im133gVWcdRQ",
        "colab_type": "code",
        "colab": {
          "base_uri": "https://localhost:8080/",
          "height": 34
        },
        "outputId": "13465a56-db0b-4080-a0b4-511cfad73eb0"
      },
      "source": [
        "x_t.shape"
      ],
      "execution_count": null,
      "outputs": [
        {
          "output_type": "execute_result",
          "data": {
            "text/plain": [
              "torch.Size([10000, 784])"
            ]
          },
          "metadata": {
            "tags": []
          },
          "execution_count": 31
        }
      ]
    },
    {
      "cell_type": "code",
      "metadata": {
        "id": "GLZDhncqcmT4",
        "colab_type": "code",
        "colab": {}
      },
      "source": [
        "scipy.io.savemat('./ali_results/001.mat',{'images': x_t.detach().cpu().numpy()})"
      ],
      "execution_count": null,
      "outputs": []
    },
    {
      "cell_type": "code",
      "metadata": {
        "id": "8-wrh5GMcvXc",
        "colab_type": "code",
        "colab": {
          "base_uri": "https://localhost:8080/",
          "height": 1000
        },
        "outputId": "d3f95721-5ae4-4548-91e7-6dbaec1bff10"
      },
      "source": [
        "\n",
        "\n",
        "\n",
        "\n",
        "\n",
        "!cp /content/drive/\"My Drive\"/wgan_mnist_digit9_m10_checkpoint.zip ./\n",
        "!unzip ./wgan_mnist_digit9_m10_checkpoint.zip\n"
      ],
      "execution_count": null,
      "outputs": [
        {
          "output_type": "stream",
          "text": [
            "Archive:  ./wgan_mnist_digit9_m10_checkpoint.zip\n",
            "  inflating: checkpoints/gan_generator_6300  \n",
            "  inflating: checkpoints/gan_generator_3154  \n",
            "  inflating: checkpoints/gan_discriminator_1807  \n",
            "  inflating: checkpoints/gan_discriminator_3152  \n",
            "  inflating: checkpoints/gan_generator_5400  \n",
            "replace checkpoints/gan_generator_0? [y]es, [n]o, [A]ll, [N]one, [r]ename: A\n",
            "  inflating: checkpoints/gan_generator_0  \n",
            "  inflating: checkpoints/gan_generator_5407  \n",
            "  inflating: checkpoints/gan_generator_5852  \n",
            "  inflating: checkpoints/gan_discriminator_1357  \n",
            "  inflating: checkpoints/gan_discriminator_4053  \n",
            "  inflating: checkpoints/gan_generator_4  \n",
            "  inflating: checkpoints/gan_generator_5858  \n",
            "  inflating: checkpoints/gan_discriminator_4051  \n",
            "  inflating: checkpoints/gan_discriminator_4052  \n",
            "  inflating: checkpoints/gan_generator_901  \n",
            "  inflating: checkpoints/gan_discriminator_3151  \n",
            "  inflating: checkpoints/gan_generator_3605  \n",
            "  inflating: checkpoints/gan_discriminator_1802  \n",
            "  inflating: checkpoints/gan_discriminator_2703  \n",
            "  inflating: checkpoints/gan_generator_4501  \n",
            "  inflating: checkpoints/gan_generator_5854  \n",
            "  inflating: checkpoints/gan_generator_4951  \n",
            "  inflating: checkpoints/gan_discriminator_4050  \n",
            "  inflating: checkpoints/gan_generator_3150  \n",
            "  inflating: checkpoints/gan_generator_454  \n",
            "  inflating: checkpoints/gan_generator_4050  \n",
            "  inflating: checkpoints/gan_generator_908  \n",
            "  inflating: checkpoints/gan_generator_1808  \n",
            "  inflating: checkpoints/gan_discriminator_458  \n",
            "  inflating: checkpoints/gan_discriminator_2701  \n",
            "  inflating: checkpoints/gan_generator_4954  \n",
            "  inflating: checkpoints/gan_discriminator_3155  \n",
            "  inflating: checkpoints/gan_generator_2700  \n",
            "  inflating: checkpoints/gan_discriminator_1351  \n",
            "  inflating: checkpoints/gan_generator_3156  \n",
            "  inflating: checkpoints/gan_discriminator_3605  \n",
            "  inflating: checkpoints/gan_generator_5402  \n",
            "  inflating: checkpoints/gan_generator_6307  \n",
            "  inflating: checkpoints/gan_discriminator_5406  \n",
            "  inflating: checkpoints/gan_discriminator_4950  \n",
            "  inflating: checkpoints/gan_generator_3608  \n",
            "  inflating: checkpoints/gan_generator_904  \n",
            "  inflating: checkpoints/gan_generator_4502  \n",
            "  inflating: checkpoints/gan_generator_2255  \n",
            "  inflating: checkpoints/gan_generator_2705  \n",
            "  inflating: checkpoints/gan_discriminator_1  \n",
            "  inflating: checkpoints/gan_discriminator_3608  \n",
            "  inflating: checkpoints/gan_discriminator_4501  \n",
            "  inflating: checkpoints/gan_generator_1803  \n",
            "  inflating: checkpoints/gan_generator_4508  \n",
            "  inflating: checkpoints/gan_discriminator_2706  \n",
            "  inflating: checkpoints/gan_generator_903  \n",
            "  inflating: checkpoints/gan_generator_906  \n",
            "  inflating: checkpoints/gan_discriminator_4502  \n",
            "  inflating: checkpoints/gan_discriminator_5407  \n",
            "  inflating: checkpoints/gan_generator_2252  \n",
            "  inflating: checkpoints/gan_discriminator_1803  \n",
            "  inflating: checkpoints/gan_generator_1355  \n",
            "  inflating: checkpoints/gan_discriminator_902  \n",
            "  inflating: checkpoints/gan_generator_6302  \n",
            "  inflating: checkpoints/gan_generator_905  \n",
            "  inflating: checkpoints/gan_discriminator_4503  \n",
            "  inflating: checkpoints/gan_generator_3601  \n",
            "  inflating: checkpoints/gan_discriminator_450  \n",
            "  inflating: checkpoints/gan_generator_1800  \n",
            "  inflating: checkpoints/gan_generator_1804  \n",
            "  inflating: checkpoints/gan_generator_1357  \n",
            "  inflating: checkpoints/gan_discriminator_453  \n",
            "  inflating: checkpoints/gan_discriminator_5852  \n",
            "  inflating: checkpoints/gan_discriminator_455  \n",
            "  inflating: checkpoints/gan_discriminator_2  \n",
            "  inflating: checkpoints/gan_discriminator_6307  \n",
            "  inflating: checkpoints/gan_generator_900  \n",
            "  inflating: checkpoints/gan_discriminator_4507  \n",
            "  inflating: checkpoints/gan_generator_5853  \n",
            "  inflating: checkpoints/gan_discriminator_4504  \n",
            "  inflating: checkpoints/gan_discriminator_5853  \n",
            "  inflating: checkpoints/gan_generator_458  \n",
            "  inflating: checkpoints/gan_discriminator_2702  \n",
            "  inflating: checkpoints/gan_discriminator_3150  \n",
            "  inflating: checkpoints/gan_discriminator_5856  \n",
            "  inflating: checkpoints/gan_generator_1807  \n",
            "  inflating: checkpoints/gan_generator_6  \n",
            "  inflating: checkpoints/gan_discriminator_452  \n",
            "  inflating: checkpoints/gan_discriminator_457  \n",
            "  inflating: checkpoints/gan_generator_6306  \n",
            "  inflating: checkpoints/gan_discriminator_5851  \n",
            "  inflating: checkpoints/gan_discriminator_1806  \n",
            "  inflating: checkpoints/gan_discriminator_2700  \n",
            "  inflating: checkpoints/gan_generator_450  \n",
            "  inflating: checkpoints/gan_discriminator_4956  \n",
            "  inflating: checkpoints/gan_generator_2706  \n",
            "  inflating: checkpoints/gan_generator_4505  \n",
            "  inflating: checkpoints/gan_generator_4054  \n",
            "  inflating: checkpoints/gan_discriminator_4055  \n",
            "  inflating: checkpoints/gan_generator_1802  \n",
            "  inflating: checkpoints/gan_discriminator_5854  \n",
            "  inflating: checkpoints/gan_generator_4504  \n",
            "  inflating: checkpoints/gan_discriminator_4508  \n",
            "  inflating: checkpoints/gan_discriminator_4955  \n",
            "  inflating: checkpoints/gan_generator_2  \n",
            "  inflating: checkpoints/gan_generator_2254  \n",
            "  inflating: checkpoints/gan_generator_5403  \n",
            "  inflating: checkpoints/gan_discriminator_4054  \n",
            "  inflating: checkpoints/gan_generator_902  \n",
            "  inflating: checkpoints/gan_generator_5  \n",
            "  inflating: checkpoints/gan_discriminator_5855  \n",
            "  inflating: checkpoints/gan_generator_2258  \n",
            "  inflating: checkpoints/gan_generator_4058  \n",
            "  inflating: checkpoints/gan_discriminator_4058  \n",
            "  inflating: checkpoints/gan_generator_456  \n",
            "  inflating: checkpoints/gan_discriminator_5402  \n",
            "  inflating: checkpoints/gan_generator_2251  \n",
            "  inflating: checkpoints/gan_discriminator_6304  \n",
            "  inflating: checkpoints/gan_discriminator_3156  \n",
            "  inflating: checkpoints/gan_generator_1351  \n",
            "  inflating: checkpoints/gan_discriminator_6308  \n",
            "  inflating: checkpoints/gan_generator_5850  \n",
            "  inflating: checkpoints/gan_discriminator_1358  \n",
            "  inflating: checkpoints/gan_discriminator_1354  \n",
            "  inflating: checkpoints/gan_discriminator_5405  \n",
            "  inflating: checkpoints/gan_generator_2707  \n",
            "  inflating: checkpoints/gan_discriminator_1355  \n",
            "  inflating: checkpoints/gan_discriminator_3601  \n",
            "  inflating: checkpoints/gan_discriminator_1801  \n",
            "  inflating: checkpoints/gan_generator_1354  \n",
            "  inflating: checkpoints/gan_generator_2708  \n",
            "  inflating: checkpoints/gan_generator_4053  \n",
            "  inflating: checkpoints/gan_generator_5405  \n",
            "  inflating: checkpoints/gan_generator_7  \n",
            "  inflating: checkpoints/gan_discriminator_1356  \n",
            "  inflating: checkpoints/gan_discriminator_5408  \n",
            "  inflating: checkpoints/gan_discriminator_1352  \n",
            "  inflating: checkpoints/gan_generator_6305  \n",
            "  inflating: checkpoints/gan_generator_6304  \n",
            "  inflating: checkpoints/gan_discriminator_3600  \n",
            "  inflating: checkpoints/gan_generator_1358  \n",
            "  inflating: checkpoints/gan_discriminator_6301  \n",
            "  inflating: checkpoints/gan_generator_4051  \n",
            "  inflating: checkpoints/gan_discriminator_5850  \n",
            "  inflating: checkpoints/gan_generator_457  \n",
            "  inflating: checkpoints/gan_generator_1350  \n",
            "  inflating: checkpoints/gan_generator_3157  \n",
            "  inflating: checkpoints/gan_generator_4503  \n",
            "  inflating: checkpoints/gan_discriminator_3157  \n",
            "  inflating: checkpoints/gan_discriminator_2252  \n",
            "  inflating: checkpoints/gan_generator_2253  \n",
            "  inflating: checkpoints/gan_generator_2703  \n",
            "  inflating: checkpoints/gan_generator_3602  \n",
            "  inflating: checkpoints/gan_discriminator_903  \n",
            "  inflating: checkpoints/gan_discriminator_6  \n",
            "  inflating: checkpoints/gan_generator_3155  \n",
            "  inflating: checkpoints/gan_discriminator_2253  \n",
            "  inflating: checkpoints/gan_discriminator_3603  \n",
            "  inflating: checkpoints/gan_generator_5401  \n",
            "  inflating: checkpoints/gan_generator_4956  \n",
            "  inflating: checkpoints/gan_discriminator_1808  \n",
            "  inflating: checkpoints/gan_generator_1806  \n",
            "  inflating: checkpoints/gan_discriminator_4505  \n",
            "  inflating: checkpoints/gan_discriminator_5404  \n",
            "  inflating: checkpoints/gan_discriminator_4958  \n",
            "  inflating: checkpoints/gan_discriminator_3604  \n",
            "  inflating: checkpoints/gan_generator_5851  \n",
            "  inflating: checkpoints/gan_generator_5406  \n",
            "  inflating: checkpoints/gan_generator_451  \n",
            "  inflating: checkpoints/gan_generator_3151  \n",
            "  inflating: checkpoints/gan_discriminator_1804  \n",
            "  inflating: checkpoints/gan_discriminator_8  \n",
            "  inflating: checkpoints/gan_discriminator_900  \n",
            "  inflating: checkpoints/gan_discriminator_2255  \n",
            "  inflating: checkpoints/gan_generator_4955  \n",
            "  inflating: checkpoints/gan_discriminator_4057  \n",
            "  inflating: checkpoints/gan_discriminator_456  \n",
            "  inflating: checkpoints/gan_discriminator_5  \n",
            "  inflating: checkpoints/gan_generator_4507  \n",
            "  inflating: checkpoints/gan_discriminator_3606  \n",
            "  inflating: checkpoints/gan_discriminator_2254  \n",
            "  inflating: checkpoints/gan_discriminator_1350  \n",
            "  inflating: checkpoints/gan_discriminator_5858  \n",
            "  inflating: checkpoints/gan_discriminator_3607  \n",
            "  inflating: checkpoints/gan_generator_1352  \n",
            "  inflating: checkpoints/gan_discriminator_6303  \n",
            "  inflating: checkpoints/gan_discriminator_3158  \n",
            "  inflating: checkpoints/gan_generator_5857  \n",
            "  inflating: checkpoints/gan_discriminator_1805  \n",
            "  inflating: checkpoints/gan_generator_4057  \n",
            "  inflating: checkpoints/gan_generator_4052  \n",
            "  inflating: checkpoints/gan_generator_4952  \n",
            "  inflating: checkpoints/gan_generator_6303  \n",
            "  inflating: checkpoints/gan_discriminator_3  \n",
            "  inflating: checkpoints/gan_generator_1801  \n",
            "  inflating: checkpoints/gan_generator_5408  \n",
            "  inflating: checkpoints/gan_discriminator_4056  \n",
            "  inflating: checkpoints/gan_generator_2704  \n",
            "  inflating: checkpoints/gan_generator_5856  \n",
            "  inflating: checkpoints/gan_generator_6301  \n",
            "  inflating: checkpoints/gan_discriminator_907  \n",
            "  inflating: checkpoints/gan_generator_6308  \n",
            "  inflating: checkpoints/gan_generator_4950  \n",
            "  inflating: checkpoints/gan_discriminator_2707  \n",
            "  inflating: checkpoints/gan_discriminator_4957  \n",
            "  inflating: checkpoints/gan_discriminator_3602  \n",
            "  inflating: checkpoints/gan_generator_1353  \n",
            "  inflating: checkpoints/gan_discriminator_4951  \n",
            "  inflating: checkpoints/gan_generator_455  \n",
            "  inflating: checkpoints/gan_discriminator_5403  \n",
            "  inflating: checkpoints/gan_discriminator_4954  \n",
            "  inflating: checkpoints/gan_discriminator_905  \n",
            "  inflating: checkpoints/gan_discriminator_2258  \n",
            "  inflating: checkpoints/gan_generator_1356  \n",
            "  inflating: checkpoints/gan_generator_5855  \n",
            "  inflating: checkpoints/gan_discriminator_901  \n",
            "  inflating: checkpoints/gan_generator_4958  \n",
            "  inflating: checkpoints/gan_discriminator_6300  \n",
            "  inflating: checkpoints/gan_generator_3603  \n",
            "  inflating: checkpoints/gan_generator_4953  \n",
            "  inflating: checkpoints/gan_generator_3152  \n",
            "  inflating: checkpoints/gan_discriminator_2256  \n",
            "  inflating: checkpoints/gan_discriminator_4952  \n",
            "  inflating: checkpoints/gan_generator_4506  \n",
            "  inflating: checkpoints/gan_generator_8  \n",
            "  inflating: checkpoints/gan_generator_907  \n",
            "  inflating: checkpoints/gan_discriminator_451  \n",
            "  inflating: checkpoints/gan_discriminator_2250  \n",
            "  inflating: checkpoints/gan_discriminator_2704  \n",
            "  inflating: checkpoints/gan_generator_4055  \n",
            "  inflating: checkpoints/gan_generator_5404  \n",
            "  inflating: checkpoints/gan_generator_452  \n",
            "  inflating: checkpoints/gan_discriminator_908  \n",
            "  inflating: checkpoints/gan_generator_2702  \n",
            "  inflating: checkpoints/gan_discriminator_4  \n",
            "  inflating: checkpoints/gan_discriminator_4506  \n",
            "  inflating: checkpoints/gan_generator_2256  \n",
            "  inflating: checkpoints/gan_discriminator_454  \n",
            "  inflating: checkpoints/gan_discriminator_4500  \n",
            "  inflating: checkpoints/gan_generator_3  \n",
            "  inflating: checkpoints/gan_discriminator_904  \n",
            "  inflating: checkpoints/gan_generator_2250  \n",
            "  inflating: checkpoints/gan_discriminator_2257  \n",
            "  inflating: checkpoints/gan_discriminator_2251  \n",
            "  inflating: checkpoints/gan_discriminator_1353  \n",
            "  inflating: checkpoints/gan_generator_2701  \n",
            "  inflating: checkpoints/gan_generator_3607  \n",
            "  inflating: checkpoints/gan_discriminator_5401  \n",
            "  inflating: checkpoints/gan_discriminator_5400  \n",
            "  inflating: checkpoints/gan_generator_3158  \n",
            "  inflating: checkpoints/gan_discriminator_3154  \n",
            "  inflating: checkpoints/gan_discriminator_2708  \n",
            "  inflating: checkpoints/gan_generator_3153  \n",
            "  inflating: checkpoints/gan_discriminator_3153  \n",
            "  inflating: checkpoints/gan_generator_3600  \n",
            "  inflating: checkpoints/gan_discriminator_5857  \n",
            "  inflating: checkpoints/gan_discriminator_7  \n",
            "  inflating: checkpoints/gan_discriminator_906  \n",
            "  inflating: checkpoints/gan_generator_453  \n",
            "  inflating: checkpoints/gan_discriminator_2705  \n",
            "  inflating: checkpoints/gan_generator_4957  \n",
            "  inflating: checkpoints/gan_discriminator_0  \n",
            "  inflating: checkpoints/gan_discriminator_4953  \n",
            "  inflating: checkpoints/gan_generator_4500  \n",
            "  inflating: checkpoints/gan_generator_3604  \n",
            "  inflating: checkpoints/gan_generator_2257  \n",
            "  inflating: checkpoints/gan_discriminator_1800  \n",
            "  inflating: checkpoints/gan_generator_4056  \n",
            "  inflating: checkpoints/gan_generator_3606  \n",
            "  inflating: checkpoints/gan_discriminator_6306  \n",
            "  inflating: checkpoints/gan_generator_1  \n",
            "  inflating: checkpoints/gan_generator_1805  \n",
            "  inflating: checkpoints/gan_discriminator_6305  \n",
            "  inflating: checkpoints/gan_discriminator_6302  \n"
          ],
          "name": "stdout"
        }
      ]
    },
    {
      "cell_type": "code",
      "metadata": {
        "id": "XFfi4ON5qJ9Y",
        "colab_type": "code",
        "colab": {}
      },
      "source": [
        "from os import listdir\n",
        "from os.path import isfile, join\n",
        "onlyfiles = [f for f in listdir('./checkpoints') if isfile(join('./checkpoints', f))]\n",
        "res_batch = torch.rand(10000,n_z).to(device)\n",
        "fl = []\n",
        "for fn in onlyfiles:\n",
        "  if 'gan_generator' in fn:\n",
        "    fl.append(int(fn[14:]))\n",
        "sortindex = np.sort(fl)"
      ],
      "execution_count": null,
      "outputs": []
    },
    {
      "cell_type": "code",
      "metadata": {
        "id": "KcYcuoGsyLqS",
        "colab_type": "code",
        "colab": {
          "base_uri": "https://localhost:8080/",
          "height": 235
        },
        "outputId": "30c51ebc-6aff-4cd9-99be-4e5e48277a33"
      },
      "source": [
        "sortindex"
      ],
      "execution_count": null,
      "outputs": [
        {
          "output_type": "execute_result",
          "data": {
            "text/plain": [
              "array([   0,    1,    2,    3,    4,    5,    6,    7,    8,  450,  451,\n",
              "        452,  453,  454,  455,  456,  457,  458,  900,  901,  902,  903,\n",
              "        904,  905,  906,  907,  908, 1350, 1351, 1352, 1353, 1354, 1355,\n",
              "       1356, 1357, 1358, 1800, 1801, 1802, 1803, 1804, 1805, 1806, 1807,\n",
              "       1808, 2250, 2251, 2252, 2253, 2254, 2255, 2256, 2257, 2258, 2700,\n",
              "       2701, 2702, 2703, 2704, 2705, 2706, 2707, 2708, 3150, 3151, 3152,\n",
              "       3153, 3154, 3155, 3156, 3157, 3158, 3600, 3601, 3602, 3603, 3604,\n",
              "       3605, 3606, 3607, 3608, 4050, 4051, 4052, 4053, 4054, 4055, 4056,\n",
              "       4057, 4058, 4500, 4501, 4502, 4503, 4504, 4505, 4506, 4507, 4508,\n",
              "       4950, 4951, 4952, 4953, 4954, 4955, 4956, 4957, 4958, 5400, 5401,\n",
              "       5402, 5403, 5404, 5405, 5406, 5407, 5408, 5850, 5851, 5852, 5853,\n",
              "       5854, 5855, 5856, 5857, 5858, 6300, 6301, 6302, 6303, 6304, 6305,\n",
              "       6306, 6307, 6308])"
            ]
          },
          "metadata": {
            "tags": []
          },
          "execution_count": 18
        }
      ]
    },
    {
      "cell_type": "code",
      "metadata": {
        "id": "d3g7gxwVyNrM",
        "colab_type": "code",
        "colab": {}
      },
      "source": [
        "newind = [f for f in sortindex if f%9==0]"
      ],
      "execution_count": null,
      "outputs": []
    },
    {
      "cell_type": "code",
      "metadata": {
        "id": "YQPfGu9zypBr",
        "colab_type": "code",
        "colab": {
          "base_uri": "https://localhost:8080/",
          "height": 269
        },
        "outputId": "3cb0cfc3-6f53-4b25-f096-0cab726c1ccb"
      },
      "source": [
        "newind"
      ],
      "execution_count": null,
      "outputs": [
        {
          "output_type": "execute_result",
          "data": {
            "text/plain": [
              "[0,\n",
              " 450,\n",
              " 900,\n",
              " 1350,\n",
              " 1800,\n",
              " 2250,\n",
              " 2700,\n",
              " 3150,\n",
              " 3600,\n",
              " 4050,\n",
              " 4500,\n",
              " 4950,\n",
              " 5400,\n",
              " 5850,\n",
              " 6300]"
            ]
          },
          "metadata": {
            "tags": []
          },
          "execution_count": 20
        }
      ]
    },
    {
      "cell_type": "code",
      "metadata": {
        "id": "4Kqbp2r2yqGG",
        "colab_type": "code",
        "colab": {}
      },
      "source": [
        "for ind in newind:\n",
        "  gen = './checkpoints/gan_generator_'+str(ind)\n",
        "  generator.load_state_dict(torch.load(gen))\n",
        "  x_t = generator(res_batch)\n",
        "  scipy.io.savemat('./ali_results/'+ str(ind)+'.mat',{'images': x_t.detach().cpu().numpy()})"
      ],
      "execution_count": null,
      "outputs": []
    },
    {
      "cell_type": "code",
      "metadata": {
        "id": "9pt0Zq86y5-Q",
        "colab_type": "code",
        "colab": {
          "base_uri": "https://localhost:8080/",
          "height": 134
        },
        "outputId": "41ea0012-973f-4a4a-f298-ea1bd1de265d"
      },
      "source": [
        "import scipy.io\n",
        "!pip install tensorflow==1.0\n",
        "!git clone https://github.com/ChunyuanLI/MNIST_Inception_Score.git\n",
        "!mv ./MNIST_Inception_Score/* ./"
      ],
      "execution_count": null,
      "outputs": [
        {
          "output_type": "stream",
          "text": [
            "Requirement already satisfied: tensorflow==1.0 in /usr/local/lib/python3.6/dist-packages (1.0.0)\n",
            "Requirement already satisfied: numpy>=1.11.0 in /usr/local/lib/python3.6/dist-packages (from tensorflow==1.0) (1.18.5)\n",
            "Requirement already satisfied: protobuf>=3.1.0 in /usr/local/lib/python3.6/dist-packages (from tensorflow==1.0) (3.10.0)\n",
            "Requirement already satisfied: wheel>=0.26 in /usr/local/lib/python3.6/dist-packages (from tensorflow==1.0) (0.34.2)\n",
            "Requirement already satisfied: six>=1.10.0 in /usr/local/lib/python3.6/dist-packages (from tensorflow==1.0) (1.12.0)\n",
            "Requirement already satisfied: setuptools in /usr/local/lib/python3.6/dist-packages (from protobuf>=3.1.0->tensorflow==1.0) (47.1.1)\n",
            "fatal: destination path 'MNIST_Inception_Score' already exists and is not an empty directory.\n"
          ],
          "name": "stdout"
        }
      ]
    },
    {
      "cell_type": "code",
      "metadata": {
        "id": "LrJqJEYEzpKK",
        "colab_type": "code",
        "colab": {
          "base_uri": "https://localhost:8080/",
          "height": 810
        },
        "outputId": "ed8a6e7f-d6dc-4071-b9a5-5c91f74e1435"
      },
      "source": [
        "!python mnist_cnn_icp_eval.py"
      ],
      "execution_count": null,
      "outputs": [
        {
          "output_type": "stream",
          "text": [
            "/usr/local/lib/python3.6/dist-packages/tensorflow/python/framework/dtypes.py:471: FutureWarning: Passing (type, 1) or '1type' as a synonym of type is deprecated; in a future version of numpy, it will be understood as (type, (1,)) / '(1,)type'.\n",
            "  _np_qint8 = np.dtype([(\"qint8\", np.int8, 1)])\n",
            "/usr/local/lib/python3.6/dist-packages/tensorflow/python/framework/dtypes.py:472: FutureWarning: Passing (type, 1) or '1type' as a synonym of type is deprecated; in a future version of numpy, it will be understood as (type, (1,)) / '(1,)type'.\n",
            "  _np_quint8 = np.dtype([(\"quint8\", np.uint8, 1)])\n",
            "/usr/local/lib/python3.6/dist-packages/tensorflow/python/framework/dtypes.py:473: FutureWarning: Passing (type, 1) or '1type' as a synonym of type is deprecated; in a future version of numpy, it will be understood as (type, (1,)) / '(1,)type'.\n",
            "  _np_qint16 = np.dtype([(\"qint16\", np.int16, 1)])\n",
            "/usr/local/lib/python3.6/dist-packages/tensorflow/python/framework/dtypes.py:474: FutureWarning: Passing (type, 1) or '1type' as a synonym of type is deprecated; in a future version of numpy, it will be understood as (type, (1,)) / '(1,)type'.\n",
            "  _np_quint16 = np.dtype([(\"quint16\", np.uint16, 1)])\n",
            "/usr/local/lib/python3.6/dist-packages/tensorflow/python/framework/dtypes.py:475: FutureWarning: Passing (type, 1) or '1type' as a synonym of type is deprecated; in a future version of numpy, it will be understood as (type, (1,)) / '(1,)type'.\n",
            "  _np_qint32 = np.dtype([(\"qint32\", np.int32, 1)])\n",
            "PACKAGES LOADED\n",
            " TYPE AND SHAPE OF [  train_total_data ] ARE <class 'numpy.ndarray'> and   (55000, 794)\n",
            " TYPE AND SHAPE OF [   validation_data ] ARE <class 'numpy.ndarray'> and    (5000, 784)\n",
            " TYPE AND SHAPE OF [ validation_labels ] ARE <class 'numpy.ndarray'> and     (5000, 10)\n",
            " TYPE AND SHAPE OF [         test_data ] ARE <class 'numpy.ndarray'> and   (10000, 784)\n",
            " TYPE AND SHAPE OF [       test_labels ] ARE <class 'numpy.ndarray'> and    (10000, 10)\n",
            "WARNING:tensorflow:From mnist_cnn_icp_eval.py:181: softmax_cross_entropy (from tensorflow.contrib.losses.python.losses.loss_ops) is deprecated and will be removed after 2016-12-30.\n",
            "Instructions for updating:\n",
            "Use tf.losses.softmax_cross_entropy instead.\n",
            "WARNING:tensorflow:From /usr/local/lib/python3.6/dist-packages/tensorflow/contrib/losses/python/losses/loss_ops.py:394: compute_weighted_loss (from tensorflow.contrib.losses.python.losses.loss_ops) is deprecated and will be removed after 2016-12-30.\n",
            "Instructions for updating:\n",
            "Use tf.losses.compute_weighted_loss instead.\n",
            "WARNING:tensorflow:From /usr/local/lib/python3.6/dist-packages/tensorflow/contrib/losses/python/losses/loss_ops.py:151: add_loss (from tensorflow.contrib.losses.python.losses.loss_ops) is deprecated and will be removed after 2016-12-30.\n",
            "Instructions for updating:\n",
            "Use tf.losses.add_loss instead.\n",
            "W tensorflow/core/platform/cpu_feature_guard.cc:45] The TensorFlow library wasn't compiled to use SSE3 instructions, but these are available on your machine and could speed up CPU computations.\n",
            "W tensorflow/core/platform/cpu_feature_guard.cc:45] The TensorFlow library wasn't compiled to use SSE4.1 instructions, but these are available on your machine and could speed up CPU computations.\n",
            "W tensorflow/core/platform/cpu_feature_guard.cc:45] The TensorFlow library wasn't compiled to use SSE4.2 instructions, but these are available on your machine and could speed up CPU computations.\n",
            "W tensorflow/core/platform/cpu_feature_guard.cc:45] The TensorFlow library wasn't compiled to use AVX instructions, but these are available on your machine and could speed up CPU computations.\n",
            "W tensorflow/core/platform/cpu_feature_guard.cc:45] The TensorFlow library wasn't compiled to use AVX2 instructions, but these are available on your machine and could speed up CPU computations.\n",
            "W tensorflow/core/platform/cpu_feature_guard.cc:45] The TensorFlow library wasn't compiled to use FMA instructions, but these are available on your machine and could speed up CPU computations.\n",
            "Inception score is: 1.0000, 0.0000\n",
            "Inception score is: 1.0371, 0.0027\n",
            "Inception score is: 1.0300, 0.0023\n",
            "Inception score is: 1.0172, 0.0022\n",
            "Inception score is: 1.0055, 0.0008\n",
            "Inception score is: 1.0104, 0.0014\n",
            "Inception score is: 1.0111, 0.0025\n",
            "Inception score is: 1.0101, 0.0007\n",
            "Inception score is: 1.0143, 0.0009\n",
            "Inception score is: 1.0114, 0.0013\n",
            "Inception score is: 1.0162, 0.0014\n",
            "Inception score is: 1.0142, 0.0017\n",
            "Inception score is: 1.0129, 0.0011\n",
            "Inception score is: 1.0122, 0.0011\n",
            "Inception score is: 1.0154, 0.0015\n"
          ],
          "name": "stdout"
        }
      ]
    },
    {
      "cell_type": "code",
      "metadata": {
        "id": "wAthyKrI1veB",
        "colab_type": "code",
        "colab": {}
      },
      "source": [
        "a = np.array([1.00,1.0071,1.0030,1.0172,1.0055,1.0104,1.0111,1.0101,1.0143,1.0114,1.0162,1.0142,1.0129,1.0122,1.0154])"
      ],
      "execution_count": null,
      "outputs": []
    },
    {
      "cell_type": "code",
      "metadata": {
        "id": "3O5lozpo5Bf5",
        "colab_type": "code",
        "colab": {
          "base_uri": "https://localhost:8080/",
          "height": 282
        },
        "outputId": "7551514c-b1c7-48b0-8b01-e52451a9ae54"
      },
      "source": [
        "plt.plot(a)"
      ],
      "execution_count": null,
      "outputs": [
        {
          "output_type": "execute_result",
          "data": {
            "text/plain": [
              "[<matplotlib.lines.Line2D at 0x7f1c7ad6deb8>]"
            ]
          },
          "metadata": {
            "tags": []
          },
          "execution_count": 41
        },
        {
          "output_type": "display_data",
          "data": {
            "image/png": "[encoded data removed]",
            "text/plain": [
              "<Figure size 432x288 with 1 Axes>"
            ]
          },
          "metadata": {
            "tags": [],
            "needs_background": "light"
          }
        }
      ]
    },
    {
      "cell_type": "code",
      "metadata": {
        "id": "3QujkGid5FcL",
        "colab_type": "code",
        "colab": {}
      },
      "source": [
        ""
      ],
      "execution_count": null,
      "outputs": []
    }
  ]
}